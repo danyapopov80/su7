{
  "nbformat": 4,
  "nbformat_minor": 0,
  "metadata": {
    "colab": {
      "provenance": [],
      "include_colab_link": true
    },
    "kernelspec": {
      "name": "python3",
      "display_name": "Python 3"
    },
    "language_info": {
      "name": "python"
    }
  },
  "cells": [
    {
      "cell_type": "markdown",
      "metadata": {
        "id": "view-in-github",
        "colab_type": "text"
      },
      "source": [
        "<a href=\"https://colab.research.google.com/github/danyapopov80/su7/blob/master/Untitled0.ipynb\" target=\"_parent\"><img src=\"https://colab.research.google.com/assets/colab-badge.svg\" alt=\"Open In Colab\"/></a>"
      ]
    },
    {
      "cell_type": "code",
      "source": [
        "print('Документ,', 'который', 'вы' ,'читаете', sep=';',end='!!!')"
      ],
      "metadata": {
        "colab": {
          "base_uri": "https://localhost:8080/"
        },
        "id": "7qFMXrS_iL_Y",
        "outputId": "03ebe4bc-5536-405a-98e7-c52e9e7f2fbe"
      },
      "execution_count": null,
      "outputs": [
        {
          "output_type": "stream",
          "name": "stdout",
          "text": [
            "Документ,;который;вы;читаете!!!"
          ]
        }
      ]
    },
    {
      "cell_type": "code",
      "source": [
        "a=5\n",
        "second_var='документ'\n",
        "print (f'{second_var} #{a}')"
      ],
      "metadata": {
        "colab": {
          "base_uri": "https://localhost:8080/"
        },
        "id": "YBp_OXdmlYmy",
        "outputId": "24aa7928-8fcf-4e19-d974-b3efead0895d"
      },
      "execution_count": null,
      "outputs": [
        {
          "output_type": "stream",
          "name": "stdout",
          "text": [
            "документ #5\n"
          ]
        }
      ]
    },
    {
      "cell_type": "code",
      "source": [
        "a = 5\n",
        "type(5)"
      ],
      "metadata": {
        "colab": {
          "base_uri": "https://localhost:8080/"
        },
        "id": "NQSXukGRnUar",
        "outputId": "182f6689-80ff-45b5-f7dc-379683890206"
      },
      "execution_count": null,
      "outputs": [
        {
          "output_type": "execute_result",
          "data": {
            "text/plain": [
              "int"
            ]
          },
          "metadata": {},
          "execution_count": 7
        }
      ]
    },
    {
      "cell_type": "code",
      "source": [
        "a = 23\n",
        "b = 5\n",
        "print(a+b,a-b,a//b,a%b,a*b)"
      ],
      "metadata": {
        "colab": {
          "base_uri": "https://localhost:8080/"
        },
        "id": "ZQS9hX48oONk",
        "outputId": "d7f4cea9-4d7a-469e-d130-b50bcb27f381"
      },
      "execution_count": null,
      "outputs": [
        {
          "output_type": "stream",
          "name": "stdout",
          "text": [
            "28 18 4 3 115\n"
          ]
        }
      ]
    },
    {
      "cell_type": "code",
      "source": [
        "a = '5'\n",
        "b=20\n",
        "print(a*b)"
      ],
      "metadata": {
        "colab": {
          "base_uri": "https://localhost:8080/"
        },
        "id": "RFTY9nF2o36Z",
        "outputId": "a6072cd0-da2f-4610-babc-a3134a78ff83"
      },
      "execution_count": null,
      "outputs": [
        {
          "output_type": "stream",
          "name": "stdout",
          "text": [
            "55555555555555555555\n"
          ]
        }
      ]
    },
    {
      "cell_type": "code",
      "source": [
        "a = int(input())\n",
        "b = input()\n",
        "print(a,b)"
      ],
      "metadata": {
        "colab": {
          "base_uri": "https://localhost:8080/"
        },
        "id": "adxRmg60pznJ",
        "outputId": "eeadc3cf-00ae-420e-fdd5-13a93f890365"
      },
      "execution_count": null,
      "outputs": [
        {
          "output_type": "stream",
          "name": "stdout",
          "text": [
            "2\n",
            "5\n",
            "2 5\n"
          ]
        }
      ]
    },
    {
      "cell_type": "code",
      "source": [
        "num1 = int(input('a= '))\n",
        "num2 = int(input('b= '))\n",
        "op = input('op= ')\n",
        "if op == '+':\n",
        "  c=a+b\n",
        "  print(a+b)\n",
        "elif op == '-':\n",
        "  c=a-b\n",
        "  print(a-b)\n",
        "elif op == '*':\n",
        "  c=a*b\n",
        "  print(a*b)"
      ],
      "metadata": {
        "id": "Y1mxq-IdsR6o"
      },
      "execution_count": null,
      "outputs": []
    },
    {
      "cell_type": "code",
      "source": [
        "name = input('Как вас зовут?')\n",
        "age = input(\"Сколько вам лет?\")\n",
        "if name == '' and age == '':\n",
        "  print('no name and no age')\n",
        "elif name == '':\n",
        "  print('no name')\n",
        "elif age == '':\n",
        "  print('no age')\n",
        "else: print('Спасибо!')\n",
        "\n",
        "\n",
        "\n"
      ],
      "metadata": {
        "colab": {
          "base_uri": "https://localhost:8080/"
        },
        "id": "Y8DnM_UJwF28",
        "outputId": "acfe9f23-8ef4-4249-ce22-20adc6d1811c"
      },
      "execution_count": null,
      "outputs": [
        {
          "output_type": "stream",
          "name": "stdout",
          "text": [
            "Как вас зовут?Анна\n",
            "Сколько вам лет?\n",
            "no age\n"
          ]
        }
      ]
    },
    {
      "cell_type": "code",
      "source": [
        "boolean_var_1 = True\n",
        "boolean_var_2 = False\n",
        "\n",
        "\n",
        "print(boolean_var_1 or boolean_var_2)\n",
        "print(not(boolean_var_1))"
      ],
      "metadata": {
        "colab": {
          "base_uri": "https://localhost:8080/"
        },
        "id": "na63qmWa66Qf",
        "outputId": "2b3d4ce3-2a45-4435-802d-c27978c3957c"
      },
      "execution_count": null,
      "outputs": [
        {
          "output_type": "stream",
          "name": "stdout",
          "text": [
            "True\n",
            "False\n"
          ]
        }
      ]
    },
    {
      "cell_type": "code",
      "source": [
        "month = input('Какой сейчас месяц? ')\n",
        "year = input('')\n",
        "if month == 'Январь' or month == 'Март' or month == 'Май':\n",
        "  print(31)\n",
        "elif month == 'Февраль' and (year % 4 == 0 and year % 100 !=0 or year % 400 ==0):\n",
        "  print(29)\n",
        "elif month == 'Февраль' and not (year % 4 == 0 and year % 100 !=0 or year % 400 ==0):\n",
        "  print(28)\n",
        "else: print(30)\n",
        "\n"
      ],
      "metadata": {
        "colab": {
          "base_uri": "https://localhost:8080/"
        },
        "id": "WLW25oFL8vIb",
        "outputId": "651817fd-f9c4-4cc5-c3a9-4bc6d95eaf00"
      },
      "execution_count": null,
      "outputs": [
        {
          "output_type": "stream",
          "name": "stdout",
          "text": [
            "Какой сейчас месяц? Апрель\n",
            "2000\n",
            "30\n"
          ]
        }
      ]
    },
    {
      "cell_type": "code",
      "source": [
        "def line(x):\n",
        "  y = 2+3*x\n",
        "  return y\n",
        "print(line(5))"
      ],
      "metadata": {
        "colab": {
          "base_uri": "https://localhost:8080/"
        },
        "id": "0eBj43EgChGb",
        "outputId": "2ee90cea-01f5-4b31-db3f-039a3eae1813"
      },
      "execution_count": null,
      "outputs": [
        {
          "output_type": "stream",
          "name": "stdout",
          "text": [
            "17\n"
          ]
        }
      ]
    },
    {
      "cell_type": "code",
      "source": [
        "def line(x):\n",
        "  y = 2+3*x\n",
        "  return y\n",
        "x = int(input('Введите икс\\n'))\n",
        "z = int(input('Введите зед\\n'))\n",
        "print(line(x))\n",
        "print(z)"
      ],
      "metadata": {
        "colab": {
          "base_uri": "https://localhost:8080/"
        },
        "id": "v6XNj5TZEEEU",
        "outputId": "195365ac-37f1-4fec-c92f-b33121244532"
      },
      "execution_count": null,
      "outputs": [
        {
          "output_type": "stream",
          "name": "stdout",
          "text": [
            "Введите икс\n",
            "3\n",
            "11\n"
          ]
        }
      ]
    },
    {
      "cell_type": "code",
      "source": [
        "def line(x):\n",
        "  global arg1\n",
        "  arg1 = 3+2\n",
        "  y = 3+2*x\n",
        "  return y\n",
        "arg2 = int(input('Введите икс\\n'))\n",
        "print(line(arg2))\n",
        "print('-------')\n",
        "print(arg1)"
      ],
      "metadata": {
        "colab": {
          "base_uri": "https://localhost:8080/"
        },
        "id": "PjDzdfewHL9a",
        "outputId": "6f8857d9-b4e2-4311-dc42-be4e98cbf4ef"
      },
      "execution_count": null,
      "outputs": [
        {
          "output_type": "stream",
          "name": "stdout",
          "text": [
            "Введите икс\n",
            "7\n",
            "17\n",
            "-------\n",
            "5\n"
          ]
        }
      ]
    }
  ]
}